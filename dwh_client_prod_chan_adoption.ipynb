{
  "cells": [
    {
      "cell_type": "markdown",
      "metadata": {
        "id": "view-in-github",
        "colab_type": "text"
      },
      "source": [
        "<a href=\"https://colab.research.google.com/github/iykrichie/labs/blob/main/dwh_client_prod_chan_adoption.ipynb\" target=\"_parent\"><img src=\"https://colab.research.google.com/assets/colab-badge.svg\" alt=\"Open In Colab\"/></a>"
      ]
    },
    {
      "cell_type": "code",
      "execution_count": null,
      "metadata": {
        "application/vnd.databricks.v1+cell": {
          "cellMetadata": {
            "byteLimit": 2048000,
            "rowLimit": 10000
          },
          "inputWidgets": {},
          "nuid": "a78ec10c-403b-4d4c-b5d6-b55b1a90e7c9",
          "showTitle": false,
          "title": ""
        },
        "id": "zTuPAGybk19R"
      },
      "outputs": [],
      "source": []
    },
    {
      "cell_type": "markdown",
      "metadata": {
        "application/vnd.databricks.v1+cell": {
          "cellMetadata": {
            "byteLimit": 2048000,
            "rowLimit": 10000
          },
          "inputWidgets": {},
          "nuid": "3b145176-22f7-41ee-81ca-44151d7d44ec",
          "showTitle": false,
          "title": ""
        },
        "id": "KtGSpp_Gk19R"
      },
      "source": [
        "# Product & Channel Adoption\n",
        "## Client Channel and Product Usage Analysis\n",
        "\n",
        "## Objective:\n",
        "The purpose of this script is to analyze the usage patterns of different channels and products among clients in the database."
      ]
    },
    {
      "cell_type": "code",
      "execution_count": 1,
      "metadata": {
        "application/vnd.databricks.v1+cell": {
          "cellMetadata": {
            "byteLimit": 2048000,
            "rowLimit": 10000
          },
          "inputWidgets": {},
          "nuid": "43e47ccb-ef3d-4625-82e9-969696675d77",
          "showTitle": false,
          "title": ""
        },
        "id": "SKPWinIWk19S"
      },
      "outputs": [],
      "source": [
        "from sqlalchemy import create_engine\n",
        "import pandas as pd\n",
        "import numpy as np\n",
        "\n"
      ]
    },
    {
      "cell_type": "markdown",
      "metadata": {
        "application/vnd.databricks.v1+cell": {
          "cellMetadata": {
            "byteLimit": 2048000,
            "rowLimit": 10000
          },
          "inputWidgets": {},
          "nuid": "99c9f856-dff0-4387-b963-d2984b584b68",
          "showTitle": false,
          "title": ""
        },
        "id": "lwi6_RYtk19S"
      },
      "source": [
        "## Libraries Used:\n",
        "- `sqlalchemy`: Used to create an engine for connecting to databases.\n",
        "- `pandas`: Used for data manipulation and analysis.\n",
        "- `numpy`: Optional library often used in conjunction with Pandas for numerical computations.\n",
        "\n",
        "## Code Details:\n",
        "1. **Import Statements:**\n",
        "   - `from sqlalchemy import create_engine`: Imports the `create_engine` function from the `sqlalchemy` library, which is used to create a connection engine for the database.\n",
        "   - `import pandas as pd`: Imports the `pandas` library using the alias `pd`, which is a popular library for data manipulation and analysis in Python.\n",
        "   - `import numpy as np`: Imports the `numpy` library using the alias `np`, which is commonly used for numerical computations in Python, often alongside Pandas.\n",
        "\n",
        "2. **Code Usage:**\n",
        "   - `create_engine`: The `create_engine` function is used to create an engine object that connects to a database. This engine object can then be used by Pandas or SQLAlchemy to interact with the database.\n",
        "\n",
        "3. **Data Handling:**\n",
        "   This code snippet sets up the necessary libraries for data handling but does not perform any specific data operations. However, with the `create_engine` function from SQLAlchemy and the data manipulation capabilities of Pandas and NumPy, various data operations such as querying databases, data cleaning, analysis, and more can be performed efficiently.\n",
        "\n",
        "\n"
      ]
    },
    {
      "cell_type": "code",
      "execution_count": null,
      "metadata": {
        "application/vnd.databricks.v1+cell": {
          "cellMetadata": {
            "byteLimit": 2048000,
            "rowLimit": 10000
          },
          "inputWidgets": {},
          "nuid": "41fcf431-280e-4193-8ddb-d7a884f2da12",
          "showTitle": false,
          "title": ""
        },
        "id": "0JxUc6LXk19S"
      },
      "outputs": [],
      "source": [
        "import json\n",
        "with open('/Workspace/Credentials/db_data.json', 'r') as fp:\n",
        "    data = json.load(fp)\n",
        "\n",
        "\n",
        "host = data['redshift']['host']\n",
        "user = data['redshift']['user']\n",
        "passwd = data['redshift']['passwd']\n",
        "database = data['redshift']['database']\n",
        "\n",
        "conn = create_engine(f\"postgresql+psycopg2://{user}:{passwd}@{host}:5439/{database}\")\n",
        "\n",
        "\n"
      ]
    },
    {
      "cell_type": "code",
      "execution_count": null,
      "metadata": {
        "application/vnd.databricks.v1+cell": {
          "cellMetadata": {
            "byteLimit": 2048000,
            "rowLimit": 10000
          },
          "inputWidgets": {},
          "nuid": "568a5d0e-d687-4b6e-a7e4-cf5cf2701210",
          "showTitle": false,
          "title": ""
        },
        "id": "AIhfwwTBk19S",
        "outputId": "55837c3d-58c2-4594-d5d9-7cb02fb775e0"
      },
      "outputs": [
        {
          "output_type": "stream",
          "name": "stdout",
          "text": [
            "2024-05-03\n2024-05-02\n------------------------------------\n2024-04-19\n\n\n2024-05-02 14:26:35 to 2024-05-03 14:26:35\n"
          ]
        }
      ],
      "source": [
        "pd.set_option('display.float_format', lambda x: '%.2f' % x)\n",
        "\n",
        "\n",
        "from datetime import datetime, timedelta\n",
        "today = datetime.today().strftime('%Y-%m-%d')\n",
        "yesterday =  (datetime.today() - timedelta(days = 1)).strftime('%Y-%m-%d')\n",
        "print(today)\n",
        "print(yesterday)\n",
        "\n",
        "\n",
        "last_2_wks = datetime.today() - timedelta(days = 14)\n",
        "last_2_wks = last_2_wks.strftime('%Y-%m-%d')\n",
        "print('------------------------------------')\n",
        "print(last_2_wks)\n",
        "\n",
        "print('\\n')\n",
        "now = datetime.today().strftime('%Y-%m-%d %H:%M:%S')\n",
        "\n",
        "last_30_mins = (datetime.today() - timedelta(days = 1)).strftime('%Y-%m-%d %H:%M:%S')\n",
        "trunc_last_30_mins = (datetime.today() - timedelta(days = 1)).strftime('%Y-%m-%d %H:%M')\n",
        "print(last_30_mins, 'to', now)\n"
      ]
    },
    {
      "cell_type": "markdown",
      "metadata": {
        "application/vnd.databricks.v1+cell": {
          "cellMetadata": {
            "byteLimit": 2048000,
            "rowLimit": 10000
          },
          "inputWidgets": {},
          "nuid": "b6a69344-6908-40a7-8b71-898a3b99fcbe",
          "showTitle": false,
          "title": ""
        },
        "id": "AfwPLT5fk19T"
      },
      "source": [
        "## Objective:\n",
        "The purpose of this code snippet is to load database connection credentials from a JSON file and use them to create a connection engine for PostgreSQL using SQLAlchemy.\n",
        "\n",
        "## Code Details:\n",
        "1. **Import Statement:**\n",
        "   - `import json`: Imports the `json` module, which provides functions for working with JSON data in Python.\n",
        "\n",
        "2. **Loading JSON Data:**\n",
        "   ```python\n",
        "   with open('/Workspace/Credentials/db_data.json', 'r') as fp:\n",
        "       data = json.load(fp)\n"
      ]
    },
    {
      "cell_type": "markdown",
      "metadata": {
        "application/vnd.databricks.v1+cell": {
          "cellMetadata": {
            "byteLimit": 2048000,
            "rowLimit": 10000
          },
          "inputWidgets": {},
          "nuid": "f7fc1f40-7303-43e8-b0e8-a92bcb1a2dca",
          "showTitle": false,
          "title": ""
        },
        "id": "5loyhQAFk19T"
      },
      "source": [
        "\n",
        "## Query Details:\n",
        "The script starts by defining several Common Table Expressions (CTEs) to categorize clients based on their transaction channels and account products:\n",
        "- `mobile_clients`: Clients using the 'MOBILE' channel.\n",
        "- `ussd_clients`: Clients using the 'USSD' channel.\n",
        "- `chatbot_clients`: Clients using the 'CHATBOT' channel.\n",
        "- `wallet_clients`: Clients using the 'WALLET' channel.\n",
        "- `bills_clients`: Clients with bill payments.\n",
        "- `airtime_clients`: Clients buying airtime or data.\n",
        "- `cardless_clients`: Clients performing cardless transactions.\n",
        "- `interbank_clients`: Clients with interbank outflows.\n",
        "- `card_clients`: Clients with card transactions.\n",
        "- `USA_clients`: Clients with a 'Universal Savings Account'.\n",
        "- `fd_clients`: Clients with a 'Term Fixed Deposit'.\n",
        "- `target_savings_clients`: Clients with a 'Target Savings Account'.\n",
        "- `child_savings_clients`: Clients with a 'Child Savings' account.\n",
        "- `corp_current_clients`: Clients with a 'Corporate Current Account'.\n",
        "- `ind_current_clients`: Clients with an 'Individual Current Account'.\n",
        "- `staff_current_clients`: Clients with a 'Staff Current Account'.\n",
        "- `credit_clients`: Active clients with loans.\n",
        "\n",
        "The main query then joins these CTEs with the `dwh_all_clients` table and other relevant tables to generate a report with the following columns:\n",
        "- `client_id`: Unique identifier for the client.\n",
        "- `client_category`: Category of the client.\n",
        "- `uses_mobile`: Flag indicating if the client uses the 'MOBILE' channel.\n",
        "- `uses_ussd`: Flag indicating if the client uses the 'USSD' channel.\n",
        "- `uses_chatbot`: Flag indicating if the client uses the 'CHATBOT' channel.\n",
        "- `uses_wallet`: Flag indicating if the client uses the 'WALLET' channel.\n",
        "- `pays_bills`: Flag indicating if the client pays bills.\n",
        "- `buys_airtime_data`: Flag indicating if the client buys airtime or data.\n",
        "- `does_cardless`: Flag indicating if the client performs cardless transactions.\n",
        "- `does_interbank_outflow`: Flag indicating if the client has interbank outflows.\n",
        "- `has_card`: Flag indicating if the client has a card.\n",
        "- `has_usa`: Flag indicating if the client has a 'Universal Savings Account'.\n",
        "- `has_fd`: Flag indicating if the client has a 'Term Fixed Deposit'.\n",
        "- `has_target_savings`: Flag indicating if the client has a 'Target Savings Account'.\n",
        "- `has_child_savings`: Flag indicating if the client has a 'Child Savings' account.\n",
        "- `has_corp_current`: Flag indicating if the client has a 'Corporate Current Account'.\n",
        "- `has_indv_current`: Flag indicating if the client has an 'Individual Current Account'.\n",
        "- `has_staff_current`: Flag indicating if the client has a 'Staff Current Account'.\n",
        "- `has_credit`: Flag indicating if the client has an active credit (loan) account.\n",
        "- `run_date`: Date when the script was executed.\n",
        "\n",
        "The resulting dataset `rcadop` provides insights into the usage patterns of different channels and products among clients at the time of execution.\n",
        "\n",
        "## Execution Time:\n",
        "The `%%time` magic command at the beginning measures the execution time of this script.\n"
      ]
    },
    {
      "cell_type": "code",
      "execution_count": null,
      "metadata": {
        "application/vnd.databricks.v1+cell": {
          "cellMetadata": {
            "byteLimit": 2048000,
            "rowLimit": 10000
          },
          "inputWidgets": {},
          "nuid": "ab8e91d1-c96e-4284-b272-18c26290e861",
          "showTitle": false,
          "title": ""
        },
        "id": "KjD1EtF0k19T",
        "outputId": "55ddacc5-0190-4d0b-bf42-8736661ff4ce"
      },
      "outputs": [
        {
          "output_type": "stream",
          "name": "stdout",
          "text": [
            "CPU times: user 29.6 s, sys: 12.7 s, total: 42.4 s\nWall time: 1min 16s\n"
          ]
        },
        {
          "output_type": "execute_result",
          "data": {
            "text/html": [
              "<div>\n",
              "<style scoped>\n",
              "    .dataframe tbody tr th:only-of-type {\n",
              "        vertical-align: middle;\n",
              "    }\n",
              "\n",
              "    .dataframe tbody tr th {\n",
              "        vertical-align: top;\n",
              "    }\n",
              "\n",
              "    .dataframe thead th {\n",
              "        text-align: right;\n",
              "    }\n",
              "</style>\n",
              "<table border=\"1\" class=\"dataframe\">\n",
              "  <thead>\n",
              "    <tr style=\"text-align: right;\">\n",
              "      <th></th>\n",
              "      <th>client_id</th>\n",
              "      <th>client_category</th>\n",
              "      <th>uses_mobile</th>\n",
              "      <th>uses_ussd</th>\n",
              "      <th>uses_chatbot</th>\n",
              "      <th>uses_wallet</th>\n",
              "      <th>pays_bills</th>\n",
              "      <th>buys_airtime_data</th>\n",
              "      <th>does_cardless</th>\n",
              "      <th>does_interbank_outflow</th>\n",
              "      <th>has_card</th>\n",
              "      <th>has_usa</th>\n",
              "      <th>has_fd</th>\n",
              "      <th>has_target_savings</th>\n",
              "      <th>has_child_savings</th>\n",
              "      <th>has_corp_current</th>\n",
              "      <th>has_indv_current</th>\n",
              "      <th>has_staff_current</th>\n",
              "      <th>has_credit</th>\n",
              "      <th>run_date</th>\n",
              "    </tr>\n",
              "  </thead>\n",
              "  <tbody>\n",
              "    <tr>\n",
              "      <th>0</th>\n",
              "      <td>5989</td>\n",
              "      <td>Corporate client</td>\n",
              "      <td>1</td>\n",
              "      <td>0</td>\n",
              "      <td>0</td>\n",
              "      <td>1</td>\n",
              "      <td>0</td>\n",
              "      <td>0</td>\n",
              "      <td>0</td>\n",
              "      <td>1</td>\n",
              "      <td>0</td>\n",
              "      <td>0</td>\n",
              "      <td>0</td>\n",
              "      <td>0</td>\n",
              "      <td>0</td>\n",
              "      <td>1</td>\n",
              "      <td>0</td>\n",
              "      <td>0</td>\n",
              "      <td>0</td>\n",
              "      <td>2024-05-03</td>\n",
              "    </tr>\n",
              "    <tr>\n",
              "      <th>1</th>\n",
              "      <td>5995</td>\n",
              "      <td>Corporate client</td>\n",
              "      <td>0</td>\n",
              "      <td>0</td>\n",
              "      <td>0</td>\n",
              "      <td>0</td>\n",
              "      <td>0</td>\n",
              "      <td>0</td>\n",
              "      <td>0</td>\n",
              "      <td>0</td>\n",
              "      <td>0</td>\n",
              "      <td>0</td>\n",
              "      <td>0</td>\n",
              "      <td>0</td>\n",
              "      <td>0</td>\n",
              "      <td>1</td>\n",
              "      <td>0</td>\n",
              "      <td>0</td>\n",
              "      <td>0</td>\n",
              "      <td>2024-05-03</td>\n",
              "    </tr>\n",
              "    <tr>\n",
              "      <th>2</th>\n",
              "      <td>6015</td>\n",
              "      <td>Corporate client</td>\n",
              "      <td>1</td>\n",
              "      <td>0</td>\n",
              "      <td>0</td>\n",
              "      <td>0</td>\n",
              "      <td>0</td>\n",
              "      <td>0</td>\n",
              "      <td>0</td>\n",
              "      <td>1</td>\n",
              "      <td>0</td>\n",
              "      <td>0</td>\n",
              "      <td>0</td>\n",
              "      <td>0</td>\n",
              "      <td>0</td>\n",
              "      <td>1</td>\n",
              "      <td>0</td>\n",
              "      <td>0</td>\n",
              "      <td>0</td>\n",
              "      <td>2024-05-03</td>\n",
              "    </tr>\n",
              "    <tr>\n",
              "      <th>3</th>\n",
              "      <td>6024</td>\n",
              "      <td>Corporate client</td>\n",
              "      <td>0</td>\n",
              "      <td>0</td>\n",
              "      <td>0</td>\n",
              "      <td>0</td>\n",
              "      <td>0</td>\n",
              "      <td>0</td>\n",
              "      <td>0</td>\n",
              "      <td>0</td>\n",
              "      <td>0</td>\n",
              "      <td>0</td>\n",
              "      <td>0</td>\n",
              "      <td>0</td>\n",
              "      <td>0</td>\n",
              "      <td>1</td>\n",
              "      <td>0</td>\n",
              "      <td>0</td>\n",
              "      <td>0</td>\n",
              "      <td>2024-05-03</td>\n",
              "    </tr>\n",
              "    <tr>\n",
              "      <th>4</th>\n",
              "      <td>6043</td>\n",
              "      <td>Corporate client</td>\n",
              "      <td>1</td>\n",
              "      <td>0</td>\n",
              "      <td>0</td>\n",
              "      <td>0</td>\n",
              "      <td>0</td>\n",
              "      <td>0</td>\n",
              "      <td>0</td>\n",
              "      <td>1</td>\n",
              "      <td>0</td>\n",
              "      <td>0</td>\n",
              "      <td>1</td>\n",
              "      <td>0</td>\n",
              "      <td>0</td>\n",
              "      <td>1</td>\n",
              "      <td>0</td>\n",
              "      <td>0</td>\n",
              "      <td>1</td>\n",
              "      <td>2024-05-03</td>\n",
              "    </tr>\n",
              "    <tr>\n",
              "      <th>...</th>\n",
              "      <td>...</td>\n",
              "      <td>...</td>\n",
              "      <td>...</td>\n",
              "      <td>...</td>\n",
              "      <td>...</td>\n",
              "      <td>...</td>\n",
              "      <td>...</td>\n",
              "      <td>...</td>\n",
              "      <td>...</td>\n",
              "      <td>...</td>\n",
              "      <td>...</td>\n",
              "      <td>...</td>\n",
              "      <td>...</td>\n",
              "      <td>...</td>\n",
              "      <td>...</td>\n",
              "      <td>...</td>\n",
              "      <td>...</td>\n",
              "      <td>...</td>\n",
              "      <td>...</td>\n",
              "      <td>...</td>\n",
              "    </tr>\n",
              "    <tr>\n",
              "      <th>2740246</th>\n",
              "      <td>3245384</td>\n",
              "      <td>Wallet client</td>\n",
              "      <td>0</td>\n",
              "      <td>0</td>\n",
              "      <td>0</td>\n",
              "      <td>0</td>\n",
              "      <td>0</td>\n",
              "      <td>0</td>\n",
              "      <td>0</td>\n",
              "      <td>0</td>\n",
              "      <td>0</td>\n",
              "      <td>0</td>\n",
              "      <td>0</td>\n",
              "      <td>0</td>\n",
              "      <td>0</td>\n",
              "      <td>0</td>\n",
              "      <td>0</td>\n",
              "      <td>0</td>\n",
              "      <td>0</td>\n",
              "      <td>2024-05-03</td>\n",
              "    </tr>\n",
              "    <tr>\n",
              "      <th>2740247</th>\n",
              "      <td>3245385</td>\n",
              "      <td>Wallet client</td>\n",
              "      <td>0</td>\n",
              "      <td>0</td>\n",
              "      <td>0</td>\n",
              "      <td>0</td>\n",
              "      <td>0</td>\n",
              "      <td>0</td>\n",
              "      <td>0</td>\n",
              "      <td>0</td>\n",
              "      <td>0</td>\n",
              "      <td>0</td>\n",
              "      <td>0</td>\n",
              "      <td>0</td>\n",
              "      <td>0</td>\n",
              "      <td>0</td>\n",
              "      <td>0</td>\n",
              "      <td>0</td>\n",
              "      <td>0</td>\n",
              "      <td>2024-05-03</td>\n",
              "    </tr>\n",
              "    <tr>\n",
              "      <th>2740248</th>\n",
              "      <td>3245386</td>\n",
              "      <td>Wallet client</td>\n",
              "      <td>0</td>\n",
              "      <td>0</td>\n",
              "      <td>0</td>\n",
              "      <td>0</td>\n",
              "      <td>0</td>\n",
              "      <td>0</td>\n",
              "      <td>0</td>\n",
              "      <td>0</td>\n",
              "      <td>0</td>\n",
              "      <td>0</td>\n",
              "      <td>0</td>\n",
              "      <td>0</td>\n",
              "      <td>0</td>\n",
              "      <td>0</td>\n",
              "      <td>0</td>\n",
              "      <td>0</td>\n",
              "      <td>0</td>\n",
              "      <td>2024-05-03</td>\n",
              "    </tr>\n",
              "    <tr>\n",
              "      <th>2740249</th>\n",
              "      <td>3245391</td>\n",
              "      <td>Wallet client</td>\n",
              "      <td>0</td>\n",
              "      <td>0</td>\n",
              "      <td>0</td>\n",
              "      <td>0</td>\n",
              "      <td>0</td>\n",
              "      <td>0</td>\n",
              "      <td>0</td>\n",
              "      <td>0</td>\n",
              "      <td>0</td>\n",
              "      <td>0</td>\n",
              "      <td>0</td>\n",
              "      <td>0</td>\n",
              "      <td>0</td>\n",
              "      <td>0</td>\n",
              "      <td>0</td>\n",
              "      <td>0</td>\n",
              "      <td>0</td>\n",
              "      <td>2024-05-03</td>\n",
              "    </tr>\n",
              "    <tr>\n",
              "      <th>2740250</th>\n",
              "      <td>3245392</td>\n",
              "      <td>Wallet client</td>\n",
              "      <td>0</td>\n",
              "      <td>0</td>\n",
              "      <td>0</td>\n",
              "      <td>1</td>\n",
              "      <td>0</td>\n",
              "      <td>0</td>\n",
              "      <td>0</td>\n",
              "      <td>0</td>\n",
              "      <td>0</td>\n",
              "      <td>0</td>\n",
              "      <td>0</td>\n",
              "      <td>0</td>\n",
              "      <td>0</td>\n",
              "      <td>0</td>\n",
              "      <td>0</td>\n",
              "      <td>0</td>\n",
              "      <td>0</td>\n",
              "      <td>2024-05-03</td>\n",
              "    </tr>\n",
              "  </tbody>\n",
              "</table>\n",
              "<p>2740251 rows × 20 columns</p>\n",
              "</div>"
            ],
            "text/plain": [
              "         client_id   client_category  ... has_credit    run_date\n",
              "0             5989  Corporate client  ...          0  2024-05-03\n",
              "1             5995  Corporate client  ...          0  2024-05-03\n",
              "2             6015  Corporate client  ...          0  2024-05-03\n",
              "3             6024  Corporate client  ...          0  2024-05-03\n",
              "4             6043  Corporate client  ...          1  2024-05-03\n",
              "...            ...               ...  ...        ...         ...\n",
              "2740246    3245384     Wallet client  ...          0  2024-05-03\n",
              "2740247    3245385     Wallet client  ...          0  2024-05-03\n",
              "2740248    3245386     Wallet client  ...          0  2024-05-03\n",
              "2740249    3245391     Wallet client  ...          0  2024-05-03\n",
              "2740250    3245392     Wallet client  ...          0  2024-05-03\n",
              "\n",
              "[2740251 rows x 20 columns]"
            ]
          },
          "execution_count": 12,
          "metadata": {}
        }
      ],
      "source": [
        "%%time\n",
        "\n",
        "query_data = pd.read_sql_query(f'''\n",
        "\n",
        "\n",
        "        WITH mobile_clients AS (\n",
        "            SELECT DISTINCT client_id\n",
        "            FROM dwh_all_transactions\n",
        "            WHERE channel = 'MOBILE'\n",
        "        ),\n",
        "        ussd_clients AS (\n",
        "            SELECT DISTINCT client_id\n",
        "            FROM dwh_all_transactions\n",
        "            WHERE channel = 'USSD'\n",
        "        ),\n",
        "        chatbot_clients AS (\n",
        "            SELECT DISTINCT client_id\n",
        "            FROM dwh_all_transactions\n",
        "            WHERE channel = 'CHATBOT'\n",
        "        ),\n",
        "        wallet_clients AS (\n",
        "            SELECT DISTINCT client_id\n",
        "            FROM dwh_all_transactions\n",
        "            WHERE channel = 'WALLET'\n",
        "        ),\n",
        "        bills_clients AS (\n",
        "            SELECT DISTINCT client_id\n",
        "            FROM dwh_bills_only\n",
        "        ),\n",
        "        airtime_clients AS (\n",
        "            SELECT DISTINCT client_id\n",
        "            FROM dwh_airtime_only\n",
        "        ),\n",
        "        cardless_clients AS (\n",
        "            SELECT DISTINCT client_id\n",
        "            FROM dwh_cardless_transactions\n",
        "        ),\n",
        "        interbank_clients AS (\n",
        "            SELECT DISTINCT client_id\n",
        "            FROM dwh_interbank_outflows\n",
        "        ),\n",
        "        card_clients AS (\n",
        "            select distinct client_id from\n",
        "            dwh_card_transactions\n",
        "        ),\n",
        "        USA_clients as (\n",
        "            select distinct client_id\n",
        "            from dwh_all_accounts\n",
        "            where product_name = 'Universal Savings Account'\n",
        "        ),\n",
        "        fd_clients as (\n",
        "            select distinct client_id\n",
        "            from dwh_all_accounts daa\n",
        "            where product_name = 'Term Fixed Deposit'\n",
        "        ),\n",
        "        target_savings_clients as (\n",
        "            select distinct client_id\n",
        "            from dwh_all_accounts\n",
        "            where product_name = 'Target Savings Account'\n",
        "        ),\n",
        "        child_savings_clients as (\n",
        "            select distinct client_id\n",
        "            from dwh_all_accounts\n",
        "            where product_name = 'Child Savings'\n",
        "        ),\n",
        "        corp_current_clients as (\n",
        "            select distinct client_id\n",
        "            from dwh_all_accounts daa\n",
        "            where product_name = 'Corporate Current Account'\n",
        "        ),\n",
        "        ind_current_clients as (\n",
        "            select distinct client_id\n",
        "            from dwh_all_accounts\n",
        "            where product_name = 'Individual Current Account'\n",
        "        ),\n",
        "        staff_current_clients as (\n",
        "            select distinct client_id\n",
        "            from dwh_all_accounts\n",
        "            where product_name = 'Staff Current Account'\n",
        "        ),\n",
        "        credit_clients as (\n",
        "            select distinct client_id from dwh_loan_details\n",
        "            where loan_status = 'Active'\n",
        "        )\n",
        "\n",
        "\n",
        "\n",
        "        SELECT\n",
        "            distinct\n",
        "            dac.client_id,  dac.client_category,\n",
        "            CASE WHEN mc.client_id IS NOT NULL THEN '1' ELSE '0' END AS uses_mobile,\n",
        "            CASE WHEN uc.client_id IS NOT NULL THEN '1' ELSE '0' END AS uses_ussd,\n",
        "            CASE WHEN cc.client_id IS NOT NULL THEN '1' ELSE '0' END AS uses_chatbot,\n",
        "            CASE WHEN wc.client_id IS NOT NULL THEN '1' ELSE '0' END AS uses_wallet,\n",
        "            CASE WHEN bc.client_id IS NOT NULL THEN '1' ELSE '0' END AS pays_bills,\n",
        "            CASE WHEN ac.client_id IS NOT NULL THEN '1' ELSE '0' END AS buys_airtime_data,\n",
        "            CASE WHEN ccless.client_id IS NOT NULL THEN '1' ELSE '0' END AS does_cardless,\n",
        "            CASE WHEN ic.client_id IS NOT NULL THEN '1' ELSE '0' END AS does_interbank_outflow,\n",
        "            CASE WHEN dc.client_id IS NOT NULL THEN '1' ELSE '0' END AS has_card,\n",
        "            CASE WHEN uc1.client_id IS NOT NULL THEN '1' ELSE '0' END AS has_usa,\n",
        "            CASE WHEN fd.client_id IS NOT NULL THEN '1' ELSE '0' END AS has_fd,\n",
        "            CASE WHEN tsc.client_id IS NOT NULL THEN '1' ELSE '0' END AS has_target_savings,\n",
        "            CASE WHEN csc.client_id IS NOT NULL THEN '1' ELSE '0' END AS has_child_savings,\n",
        "            CASE WHEN ccc.client_id IS NOT NULL THEN '1' ELSE '0' END AS has_corp_current,\n",
        "            CASE WHEN icc.client_id IS NOT NULL THEN '1' ELSE '0' END AS has_indv_current,\n",
        "            CASE WHEN scc.client_id IS NOT NULL THEN '1' ELSE '0' END AS has_staff_current,\n",
        "            CASE WHEN cc1.client_id IS NOT NULL THEN '1' ELSE '0' END AS has_credit,\n",
        "\n",
        "            current_date as run_date\n",
        "\n",
        "        FROM dwh_all_clients dac\n",
        "        left join dwh_all_accounts daa on dac.client_id = daa.client_id\n",
        "        LEFT JOIN mobile_clients mc ON dac.client_id = mc.client_id\n",
        "        LEFT JOIN ussd_clients uc ON dac.client_id = uc.client_id\n",
        "        LEFT JOIN chatbot_clients cc ON dac.client_id = cc.client_id\n",
        "        LEFT JOIN wallet_clients wc ON dac.client_id = wc.client_id\n",
        "        LEFT JOIN bills_clients bc ON dac.client_id = bc.client_id\n",
        "        LEFT JOIN airtime_clients ac ON dac.client_id = ac.client_id\n",
        "        LEFT JOIN cardless_clients ccless ON dac.client_id = ccless.client_id\n",
        "        LEFT JOIN interbank_clients ic ON dac.client_id = ic.client_id\n",
        "        LEFT JOIN card_clients dc ON daa.client_id = dc.client_id\n",
        "        left join usa_clients uc1 on dac.client_id  = uc1.client_id\n",
        "        left join fd_clients fd on fd.client_id = dac.client_id\n",
        "        left join target_savings_clients tsc on tsc.client_id = dac.client_id\n",
        "        left join child_savings_clients csc on csc.client_id = dac.client_id\n",
        "        left join corp_current_clients ccc on ccc.client_id = dac.client_id\n",
        "        left join ind_current_clients icc on icc.client_id = dac.client_id\n",
        "        left join staff_current_clients scc on scc.client_id = dac.client_id\n",
        "        left join credit_clients cc1 on cc1.client_id = dac.client_id\n",
        "\n",
        "\n",
        "\n",
        "\n",
        "''', conn)\n",
        "\n",
        "query_data"
      ]
    },
    {
      "cell_type": "code",
      "execution_count": null,
      "metadata": {
        "application/vnd.databricks.v1+cell": {
          "cellMetadata": {
            "byteLimit": 2048000,
            "rowLimit": 10000
          },
          "inputWidgets": {},
          "nuid": "5727b12c-ca27-473d-a60b-3db17878e80e",
          "showTitle": false,
          "title": ""
        },
        "id": "Bf3sjHsnk19U",
        "outputId": "49933112-3819-4511-d5cf-c40144713773"
      },
      "outputs": [
        {
          "output_type": "stream",
          "name": "stdout",
          "text": [
            "Data successfully imported and written to 'dwh_client_prod_chan_adoption' on Redshift.\nCPU times: user 19min 6s, sys: 5.19 s, total: 19min 11s\nWall time: 35min 41s\n"
          ]
        }
      ],
      "source": [
        "%%time\n",
        "\n",
        "df = query_data\n",
        "\n",
        "# Write DataFrame to Redshift\n",
        "# Assuming the table name should be 'wh_client_prod_chan_adoption'\n",
        "table_name = 'dwh_client_prod_chan_adoption'\n",
        "\n",
        "# Write the DataFrame to the Redshift table\n",
        "df.to_sql(name=table_name, con=conn, if_exists='replace', index=False, chunksize = 5000, method = 'multi')\n",
        "\n",
        "\n",
        "print(f\"Data successfully imported and written to '{table_name}' on Redshift.\")\n"
      ]
    },
    {
      "cell_type": "markdown",
      "metadata": {
        "application/vnd.databricks.v1+cell": {
          "cellMetadata": {
            "byteLimit": 2048000,
            "rowLimit": 10000
          },
          "inputWidgets": {},
          "nuid": "223d3ccc-7709-44ad-a500-d8ef85afff05",
          "showTitle": false,
          "title": ""
        },
        "id": "wdaEZKKwk19U"
      },
      "source": [
        "## resulting tables on redshift public schema includes\n",
        "\n",
        "* dwh_client_prod_chan_adoption  - list of product and channels in use by client (this excludes POS)"
      ]
    },
    {
      "cell_type": "code",
      "execution_count": null,
      "metadata": {
        "application/vnd.databricks.v1+cell": {
          "cellMetadata": {
            "byteLimit": 2048000,
            "rowLimit": 10000
          },
          "inputWidgets": {},
          "nuid": "1957d2f3-cb96-4738-8940-271b245785c9",
          "showTitle": false,
          "title": ""
        },
        "id": "Vak8OW-Lk19U"
      },
      "outputs": [],
      "source": []
    },
    {
      "cell_type": "code",
      "execution_count": null,
      "metadata": {
        "application/vnd.databricks.v1+cell": {
          "cellMetadata": {
            "byteLimit": 2048000,
            "rowLimit": 10000
          },
          "inputWidgets": {},
          "nuid": "a963c695-802d-43d3-8edd-3b1a1344545b",
          "showTitle": false,
          "title": ""
        },
        "id": "7R-gIkDZk19U"
      },
      "outputs": [],
      "source": []
    },
    {
      "cell_type": "code",
      "execution_count": null,
      "metadata": {
        "application/vnd.databricks.v1+cell": {
          "cellMetadata": {
            "byteLimit": 2048000,
            "rowLimit": 10000
          },
          "inputWidgets": {},
          "nuid": "c1164cee-1fe8-4e68-8fb5-d48164b144be",
          "showTitle": false,
          "title": ""
        },
        "id": "rJ6rUGXak19U"
      },
      "outputs": [],
      "source": []
    },
    {
      "cell_type": "code",
      "execution_count": null,
      "metadata": {
        "application/vnd.databricks.v1+cell": {
          "cellMetadata": {
            "byteLimit": 2048000,
            "rowLimit": 10000
          },
          "inputWidgets": {},
          "nuid": "2f7123d6-b1b5-4e68-bbf9-6bcb7f17bed4",
          "showTitle": false,
          "title": ""
        },
        "id": "TudT8OXVk19U"
      },
      "outputs": [],
      "source": []
    },
    {
      "cell_type": "code",
      "execution_count": null,
      "metadata": {
        "application/vnd.databricks.v1+cell": {
          "cellMetadata": {
            "byteLimit": 2048000,
            "rowLimit": 10000
          },
          "inputWidgets": {},
          "nuid": "987cdb06-4c2b-48ac-953b-bd778f364ae7",
          "showTitle": false,
          "title": ""
        },
        "id": "5HNEJKTzk19U"
      },
      "outputs": [],
      "source": []
    }
  ],
  "metadata": {
    "application/vnd.databricks.v1+notebook": {
      "dashboards": [],
      "language": "python",
      "notebookMetadata": {
        "pythonIndentUnit": 4
      },
      "notebookName": "dwh_client_prod_chan_adoption",
      "widgets": {}
    },
    "kernelspec": {
      "display_name": "dslab",
      "language": "python",
      "name": "dslab"
    },
    "language_info": {
      "codemirror_mode": {
        "name": "ipython",
        "version": 3
      },
      "file_extension": ".py",
      "mimetype": "text/x-python",
      "name": "python",
      "nbconvert_exporter": "python",
      "pygments_lexer": "ipython3",
      "version": "3.11.4"
    },
    "colab": {
      "provenance": [],
      "include_colab_link": true
    }
  },
  "nbformat": 4,
  "nbformat_minor": 0
}